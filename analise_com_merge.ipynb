{
 "cells": [
  {
   "cell_type": "markdown",
   "id": "9c5b925c",
   "metadata": {},
   "source": [
    "# Análise do banco de dados público de Comércio Eletrônico Brasileiro da Plataforma Olist"
   ]
  },
  {
   "cell_type": "markdown",
   "id": "4feceecb",
   "metadata": {},
   "source": [
    "## Motivação:\n",
    "\n",
    "A forma como desenvolve-se o código para a realização de uma análise é de suma importância para a organização das ideias, e desenvolvimento de uma estrutura coerente, que faça sentido ao programador.<br>\n",
    "\n",
    "Assim, a ideia desse projeto é apresentar uma maneira simples de trabalhar com conjuntos de dados separados, ou seja, unir data frames de maneira objetiva."
   ]
  },
  {
   "cell_type": "markdown",
   "id": "2b210ac5",
   "metadata": {},
   "source": [
    "## Finalidade do estudos:\n",
    "\n",
    "O projeto visa analisar o Conjunto de dados públicos de comércio eletrônico brasileiro da Plataforma Olist. O conjunto de dados tem informações de 100 mil pedidos de 2016 a 2018 feitos em vários marketplaces no Brasil.<br>\n",
    "Portanto a ideia é fazer a junção dessa base de dados através da função ``merge`` da biblioteca ``pandas``.<br>\n",
    "\n",
    "Vamos também investigar algumas hipóteses juntos:<br>\n",
    "Qual o ID de cliente que mais compra na Olist?<br>\n",
    "Onde estão localizados os top 10 clientes?<br>\n",
    "Qual a média de preços de cada categoria?<br>"
   ]
  },
  {
   "cell_type": "markdown",
   "id": "97ee6b71",
   "metadata": {},
   "source": [
    "## Bibliotecas"
   ]
  },
  {
   "cell_type": "code",
   "execution_count": 1,
   "id": "d06b8765",
   "metadata": {},
   "outputs": [],
   "source": [
    "import pandas as pd\n",
    "import numpy as py\n",
    "import matplotlib.pyplot as plt\n",
    "import seaborn as sns\n",
    "plt.style.use('fivethirtyeight')\n",
    "import warnings\n",
    "warnings.filterwarnings('ignore')\n",
    "%matplotlib inline"
   ]
  },
  {
   "cell_type": "markdown",
   "id": "4921cf34",
   "metadata": {},
   "source": [
    "## Carregando dados:"
   ]
  },
  {
   "cell_type": "code",
   "execution_count": 2,
   "id": "c22b5f99",
   "metadata": {},
   "outputs": [],
   "source": [
    "df_prod = pd.read_csv('conj_produtos.csv', sep=',', on_bad_lines='skip', encoding='latin-1')\n",
    "df_client = pd.read_csv('clientes.csv', sep=',', on_bad_lines='skip', encoding='latin-1')\n",
    "df_pedidos = pd.read_csv('conj_de_pedidos.csv', sep=',', on_bad_lines='skip', encoding='latin-1')\n",
    "df_vendedo = pd.read_csv('conj_vendedores.csv', sep=',', on_bad_lines='skip', encoding='latin-1')\n",
    "df_traduc = pd.read_csv('traduc_categoria_produto.csv', sep=',', on_bad_lines='skip', encoding='latin-1')\n",
    "df_revis_pedi = pd.read_csv('revisoes_pedidos.csv', sep=',', on_bad_lines='skip', encoding='latin-1')\n",
    "df_pg_pedidos = pd.read_csv('pagamentos_pedidos.csv', sep=',', on_bad_lines='skip', encoding='latin-1')\n",
    "df_iten_pedidos = pd.read_csv('itens_pedidos.csv', sep=',', on_bad_lines='skip', encoding='latin-1')\n",
    "df_loc = pd.read_csv('geolocalização.csv', sep=',', on_bad_lines='skip', encoding='latin-1')\n"
   ]
  },
  {
   "cell_type": "markdown",
   "id": "f2350329",
   "metadata": {},
   "source": [
    "## Descrição dos dados:"
   ]
  },
  {
   "cell_type": "markdown",
   "id": "db641d13",
   "metadata": {},
   "source": [
    "#### Informações sobre os dados:\n",
    "\n",
    "Os dados são divididos em vários conjuntos de dados para melhor compreensão e organização. Porém, este estudo está trazendo um domínio das funções da biblioteca Pandas para a união de dataframes, através de ``merge`` e ``concat``.<br>\n",
    "Dessa forma, a descrição das variáveis utilizadas se dará ao longo do estudo.<br>\n",
    "\n",
    "As informações a seguir ainda mostra o conjunto de dados separados em vários ``dataframes``."
   ]
  },
  {
   "cell_type": "code",
   "execution_count": 13,
   "id": "99553e2a",
   "metadata": {},
   "outputs": [
    {
     "name": "stdout",
     "output_type": "stream",
     "text": [
      "<class 'pandas.core.frame.DataFrame'>\n",
      "RangeIndex: 32951 entries, 0 to 32950\n",
      "Data columns (total 9 columns):\n",
      " #   Column                      Non-Null Count  Dtype  \n",
      "---  ------                      --------------  -----  \n",
      " 0   product_id                  32951 non-null  object \n",
      " 1   product_category_name       32341 non-null  object \n",
      " 2   product_name_lenght         32341 non-null  float64\n",
      " 3   product_description_lenght  32341 non-null  float64\n",
      " 4   product_photos_qty          32341 non-null  float64\n",
      " 5   product_weight_g            32949 non-null  float64\n",
      " 6   product_length_cm           32949 non-null  float64\n",
      " 7   product_height_cm           32949 non-null  float64\n",
      " 8   product_width_cm            32949 non-null  float64\n",
      "dtypes: float64(7), object(2)\n",
      "memory usage: 2.3+ MB\n"
     ]
    }
   ],
   "source": [
    "df_prod.info()"
   ]
  },
  {
   "cell_type": "code",
   "execution_count": 14,
   "id": "a9f30df7",
   "metadata": {},
   "outputs": [
    {
     "name": "stdout",
     "output_type": "stream",
     "text": [
      "<class 'pandas.core.frame.DataFrame'>\n",
      "RangeIndex: 99441 entries, 0 to 99440\n",
      "Data columns (total 5 columns):\n",
      " #   Column                    Non-Null Count  Dtype \n",
      "---  ------                    --------------  ----- \n",
      " 0   customer_id               99441 non-null  object\n",
      " 1   customer_unique_id        99441 non-null  object\n",
      " 2   customer_zip_code_prefix  99441 non-null  int64 \n",
      " 3   customer_city             99441 non-null  object\n",
      " 4   customer_state            99441 non-null  object\n",
      "dtypes: int64(1), object(4)\n",
      "memory usage: 3.8+ MB\n"
     ]
    }
   ],
   "source": [
    "df_client.info()"
   ]
  },
  {
   "cell_type": "code",
   "execution_count": 15,
   "id": "def74f51",
   "metadata": {},
   "outputs": [
    {
     "name": "stdout",
     "output_type": "stream",
     "text": [
      "<class 'pandas.core.frame.DataFrame'>\n",
      "RangeIndex: 99441 entries, 0 to 99440\n",
      "Data columns (total 8 columns):\n",
      " #   Column                         Non-Null Count  Dtype \n",
      "---  ------                         --------------  ----- \n",
      " 0   order_id                       99441 non-null  object\n",
      " 1   customer_id                    99441 non-null  object\n",
      " 2   order_status                   99441 non-null  object\n",
      " 3   order_purchase_timestamp       99441 non-null  object\n",
      " 4   order_approved_at              99281 non-null  object\n",
      " 5   order_delivered_carrier_date   97658 non-null  object\n",
      " 6   order_delivered_customer_date  96476 non-null  object\n",
      " 7   order_estimated_delivery_date  99441 non-null  object\n",
      "dtypes: object(8)\n",
      "memory usage: 6.1+ MB\n"
     ]
    }
   ],
   "source": [
    "df_pedidos.info()"
   ]
  },
  {
   "cell_type": "code",
   "execution_count": 16,
   "id": "595ddf7a",
   "metadata": {},
   "outputs": [
    {
     "name": "stdout",
     "output_type": "stream",
     "text": [
      "<class 'pandas.core.frame.DataFrame'>\n",
      "RangeIndex: 3095 entries, 0 to 3094\n",
      "Data columns (total 4 columns):\n",
      " #   Column                  Non-Null Count  Dtype \n",
      "---  ------                  --------------  ----- \n",
      " 0   seller_id               3095 non-null   object\n",
      " 1   seller_zip_code_prefix  3095 non-null   int64 \n",
      " 2   seller_city             3095 non-null   object\n",
      " 3   seller_state            3095 non-null   object\n",
      "dtypes: int64(1), object(3)\n",
      "memory usage: 96.8+ KB\n"
     ]
    }
   ],
   "source": [
    "df_vendedo.info()"
   ]
  },
  {
   "cell_type": "code",
   "execution_count": 18,
   "id": "44313ae9",
   "metadata": {},
   "outputs": [
    {
     "name": "stdout",
     "output_type": "stream",
     "text": [
      "<class 'pandas.core.frame.DataFrame'>\n",
      "RangeIndex: 99224 entries, 0 to 99223\n",
      "Data columns (total 7 columns):\n",
      " #   Column                   Non-Null Count  Dtype \n",
      "---  ------                   --------------  ----- \n",
      " 0   review_id                99224 non-null  object\n",
      " 1   order_id                 99224 non-null  object\n",
      " 2   review_score             99224 non-null  int64 \n",
      " 3   review_comment_title     11568 non-null  object\n",
      " 4   review_comment_message   40977 non-null  object\n",
      " 5   review_creation_date     99224 non-null  object\n",
      " 6   review_answer_timestamp  99224 non-null  object\n",
      "dtypes: int64(1), object(6)\n",
      "memory usage: 5.3+ MB\n"
     ]
    }
   ],
   "source": [
    "df_revis_pedi.info()"
   ]
  },
  {
   "cell_type": "code",
   "execution_count": 19,
   "id": "5ffc529e",
   "metadata": {},
   "outputs": [
    {
     "name": "stdout",
     "output_type": "stream",
     "text": [
      "<class 'pandas.core.frame.DataFrame'>\n",
      "RangeIndex: 103886 entries, 0 to 103885\n",
      "Data columns (total 5 columns):\n",
      " #   Column                Non-Null Count   Dtype  \n",
      "---  ------                --------------   -----  \n",
      " 0   order_id              103886 non-null  object \n",
      " 1   payment_sequential    103886 non-null  int64  \n",
      " 2   payment_type          103886 non-null  object \n",
      " 3   payment_installments  103886 non-null  int64  \n",
      " 4   payment_value         103886 non-null  float64\n",
      "dtypes: float64(1), int64(2), object(2)\n",
      "memory usage: 4.0+ MB\n"
     ]
    }
   ],
   "source": [
    "df_pg_pedidos.info()"
   ]
  },
  {
   "cell_type": "code",
   "execution_count": 22,
   "id": "511a00ea",
   "metadata": {},
   "outputs": [
    {
     "name": "stdout",
     "output_type": "stream",
     "text": [
      "<class 'pandas.core.frame.DataFrame'>\n",
      "RangeIndex: 112650 entries, 0 to 112649\n",
      "Data columns (total 7 columns):\n",
      " #   Column               Non-Null Count   Dtype  \n",
      "---  ------               --------------   -----  \n",
      " 0   order_id             112650 non-null  object \n",
      " 1   order_item_id        112650 non-null  int64  \n",
      " 2   product_id           112650 non-null  object \n",
      " 3   seller_id            112650 non-null  object \n",
      " 4   shipping_limit_date  112650 non-null  object \n",
      " 5   price                112650 non-null  float64\n",
      " 6   freight_value        112650 non-null  float64\n",
      "dtypes: float64(2), int64(1), object(4)\n",
      "memory usage: 6.0+ MB\n"
     ]
    }
   ],
   "source": [
    "df_iten_pedidos.info()"
   ]
  },
  {
   "cell_type": "markdown",
   "id": "9abd4028",
   "metadata": {},
   "source": [
    "### Observando valores nulos:\n",
    "\n",
    "Nesta parte utilizei a função .isnull() para observar se há valores missing no datasets."
   ]
  },
  {
   "cell_type": "code",
   "execution_count": 29,
   "id": "923867b4",
   "metadata": {},
   "outputs": [
    {
     "data": {
      "text/plain": [
       "product_id                      0\n",
       "product_category_name         610\n",
       "product_name_lenght           610\n",
       "product_description_lenght    610\n",
       "product_photos_qty            610\n",
       "product_weight_g                2\n",
       "product_length_cm               2\n",
       "product_height_cm               2\n",
       "product_width_cm                2\n",
       "dtype: int64"
      ]
     },
     "execution_count": 29,
     "metadata": {},
     "output_type": "execute_result"
    }
   ],
   "source": [
    "df_prod.isnull().sum()"
   ]
  },
  {
   "cell_type": "code",
   "execution_count": 30,
   "id": "ce6568ea",
   "metadata": {},
   "outputs": [
    {
     "data": {
      "text/plain": [
       "order_id                            0\n",
       "customer_id                         0\n",
       "order_status                        0\n",
       "order_purchase_timestamp            0\n",
       "order_approved_at                 160\n",
       "order_delivered_carrier_date     1783\n",
       "order_delivered_customer_date    2965\n",
       "order_estimated_delivery_date       0\n",
       "dtype: int64"
      ]
     },
     "execution_count": 30,
     "metadata": {},
     "output_type": "execute_result"
    }
   ],
   "source": [
    "df_pedidos.isnull().sum()"
   ]
  },
  {
   "cell_type": "code",
   "execution_count": 31,
   "id": "3cdb47df",
   "metadata": {},
   "outputs": [
    {
     "data": {
      "text/plain": [
       "order_id                0\n",
       "payment_sequential      0\n",
       "payment_type            0\n",
       "payment_installments    0\n",
       "payment_value           0\n",
       "dtype: int64"
      ]
     },
     "execution_count": 31,
     "metadata": {},
     "output_type": "execute_result"
    }
   ],
   "source": [
    "df_pg_pedidos.isnull().sum()"
   ]
  },
  {
   "cell_type": "code",
   "execution_count": 32,
   "id": "55499058",
   "metadata": {},
   "outputs": [
    {
     "data": {
      "text/plain": [
       "customer_id                 0\n",
       "customer_unique_id          0\n",
       "customer_zip_code_prefix    0\n",
       "customer_city               0\n",
       "customer_state              0\n",
       "dtype: int64"
      ]
     },
     "execution_count": 32,
     "metadata": {},
     "output_type": "execute_result"
    }
   ],
   "source": [
    "df_client.isnull().sum()"
   ]
  },
  {
   "cell_type": "code",
   "execution_count": 33,
   "id": "361b961c",
   "metadata": {},
   "outputs": [
    {
     "data": {
      "text/plain": [
       "seller_id                 0\n",
       "seller_zip_code_prefix    0\n",
       "seller_city               0\n",
       "seller_state              0\n",
       "dtype: int64"
      ]
     },
     "execution_count": 33,
     "metadata": {},
     "output_type": "execute_result"
    }
   ],
   "source": [
    "df_vendedo.isnull().sum()"
   ]
  },
  {
   "cell_type": "code",
   "execution_count": 34,
   "id": "4367271e",
   "metadata": {},
   "outputs": [
    {
     "data": {
      "text/plain": [
       "order_id               0\n",
       "order_item_id          0\n",
       "product_id             0\n",
       "seller_id              0\n",
       "shipping_limit_date    0\n",
       "price                  0\n",
       "freight_value          0\n",
       "dtype: int64"
      ]
     },
     "execution_count": 34,
     "metadata": {},
     "output_type": "execute_result"
    }
   ],
   "source": [
    "df_iten_pedidos.isnull().sum()"
   ]
  },
  {
   "cell_type": "markdown",
   "id": "521eb5c6",
   "metadata": {},
   "source": [
    "# Realizando a união dos dataframes para análise:"
   ]
  },
  {
   "cell_type": "markdown",
   "id": "de9ec09c",
   "metadata": {},
   "source": [
    "Nesta parte foi realizado o ``merge`` da base de dados de **clientes** e **pedidos** no intuito de identificar o **customer_unique_id** de cada cliente individual. Dessa forma, foi realizado um ``groupby`` e identificado o ID pertencente aos 10 clientes que mais realizaram compra dentro da Plataforma Olist.\n",
    "\n",
    "**OBS: cada pedido é atribuído a um ID de cliente exclusivo. Isso significa que o mesmo cliente receberá IDs diferentes para pedidos diferentes. O objetivo de ter um customer_unique_id no conjunto de dados é permitir que você identifique os clientes que fizeram recompras na loja. Caso contrário, você descobriria que cada pedido tinha um cliente diferente associado.**"
   ]
  },
  {
   "cell_type": "code",
   "execution_count": 3,
   "id": "2d65608e",
   "metadata": {},
   "outputs": [],
   "source": [
    "m_df1 = pd.merge(df_client, df_pedidos, how='inner', on='customer_id')"
   ]
  },
  {
   "cell_type": "code",
   "execution_count": 53,
   "id": "ddf0a657",
   "metadata": {},
   "outputs": [
    {
     "data": {
      "text/html": [
       "<div>\n",
       "<style scoped>\n",
       "    .dataframe tbody tr th:only-of-type {\n",
       "        vertical-align: middle;\n",
       "    }\n",
       "\n",
       "    .dataframe tbody tr th {\n",
       "        vertical-align: top;\n",
       "    }\n",
       "\n",
       "    .dataframe thead th {\n",
       "        text-align: right;\n",
       "    }\n",
       "</style>\n",
       "<table border=\"1\" class=\"dataframe\">\n",
       "  <thead>\n",
       "    <tr style=\"text-align: right;\">\n",
       "      <th></th>\n",
       "      <th>customer_id</th>\n",
       "      <th>customer_unique_id</th>\n",
       "      <th>customer_zip_code_prefix</th>\n",
       "      <th>customer_city</th>\n",
       "      <th>customer_state</th>\n",
       "      <th>order_id</th>\n",
       "      <th>order_status</th>\n",
       "      <th>order_purchase_timestamp</th>\n",
       "      <th>order_approved_at</th>\n",
       "      <th>order_delivered_carrier_date</th>\n",
       "      <th>order_delivered_customer_date</th>\n",
       "      <th>order_estimated_delivery_date</th>\n",
       "    </tr>\n",
       "  </thead>\n",
       "  <tbody>\n",
       "    <tr>\n",
       "      <th>0</th>\n",
       "      <td>06b8999e2fba1a1fbc88172c00ba8bc7</td>\n",
       "      <td>861eff4711a542e4b93843c6dd7febb0</td>\n",
       "      <td>14409</td>\n",
       "      <td>franca</td>\n",
       "      <td>SP</td>\n",
       "      <td>00e7ee1b050b8499577073aeb2a297a1</td>\n",
       "      <td>delivered</td>\n",
       "      <td>2017-05-16 15:05:35</td>\n",
       "      <td>2017-05-16 15:22:12</td>\n",
       "      <td>2017-05-23 10:47:57</td>\n",
       "      <td>2017-05-25 10:35:35</td>\n",
       "      <td>2017-06-05 00:00:00</td>\n",
       "    </tr>\n",
       "    <tr>\n",
       "      <th>1</th>\n",
       "      <td>18955e83d337fd6b2def6b18a428ac77</td>\n",
       "      <td>290c77bc529b7ac935b93aa66c333dc3</td>\n",
       "      <td>9790</td>\n",
       "      <td>sao bernardo do campo</td>\n",
       "      <td>SP</td>\n",
       "      <td>29150127e6685892b6eab3eec79f59c7</td>\n",
       "      <td>delivered</td>\n",
       "      <td>2018-01-12 20:48:24</td>\n",
       "      <td>2018-01-12 20:58:32</td>\n",
       "      <td>2018-01-15 17:14:59</td>\n",
       "      <td>2018-01-29 12:41:19</td>\n",
       "      <td>2018-02-06 00:00:00</td>\n",
       "    </tr>\n",
       "    <tr>\n",
       "      <th>2</th>\n",
       "      <td>4e7b3e00288586ebd08712fdd0374a03</td>\n",
       "      <td>060e732b5b29e8181a18229c7b0b2b5e</td>\n",
       "      <td>1151</td>\n",
       "      <td>sao paulo</td>\n",
       "      <td>SP</td>\n",
       "      <td>b2059ed67ce144a36e2aa97d2c9e9ad2</td>\n",
       "      <td>delivered</td>\n",
       "      <td>2018-05-19 16:07:45</td>\n",
       "      <td>2018-05-20 16:19:10</td>\n",
       "      <td>2018-06-11 14:31:00</td>\n",
       "      <td>2018-06-14 17:58:51</td>\n",
       "      <td>2018-06-13 00:00:00</td>\n",
       "    </tr>\n",
       "    <tr>\n",
       "      <th>3</th>\n",
       "      <td>b2b6027bc5c5109e529d4dc6358b12c3</td>\n",
       "      <td>259dac757896d24d7702b9acbbff3f3c</td>\n",
       "      <td>8775</td>\n",
       "      <td>mogi das cruzes</td>\n",
       "      <td>SP</td>\n",
       "      <td>951670f92359f4fe4a63112aa7306eba</td>\n",
       "      <td>delivered</td>\n",
       "      <td>2018-03-13 16:06:38</td>\n",
       "      <td>2018-03-13 17:29:19</td>\n",
       "      <td>2018-03-27 23:22:42</td>\n",
       "      <td>2018-03-28 16:04:25</td>\n",
       "      <td>2018-04-10 00:00:00</td>\n",
       "    </tr>\n",
       "    <tr>\n",
       "      <th>4</th>\n",
       "      <td>4f2d8ab171c80ec8364f7c12e35b23ad</td>\n",
       "      <td>345ecd01c38d18a9036ed96c73b8d066</td>\n",
       "      <td>13056</td>\n",
       "      <td>campinas</td>\n",
       "      <td>SP</td>\n",
       "      <td>6b7d50bd145f6fc7f33cebabd7e49d0f</td>\n",
       "      <td>delivered</td>\n",
       "      <td>2018-07-29 09:51:30</td>\n",
       "      <td>2018-07-29 10:10:09</td>\n",
       "      <td>2018-07-30 15:16:00</td>\n",
       "      <td>2018-08-09 20:55:48</td>\n",
       "      <td>2018-08-15 00:00:00</td>\n",
       "    </tr>\n",
       "    <tr>\n",
       "      <th>5</th>\n",
       "      <td>879864dab9bc3047522c92c82e1212b8</td>\n",
       "      <td>4c93744516667ad3b8f1fb645a3116a4</td>\n",
       "      <td>89254</td>\n",
       "      <td>jaragua do sul</td>\n",
       "      <td>SC</td>\n",
       "      <td>5741ea1f91b5fbab2bd2dc653a5b5099</td>\n",
       "      <td>delivered</td>\n",
       "      <td>2017-09-14 18:14:31</td>\n",
       "      <td>2017-09-14 18:25:11</td>\n",
       "      <td>2017-09-18 21:27:40</td>\n",
       "      <td>2017-09-28 17:32:43</td>\n",
       "      <td>2017-10-04 00:00:00</td>\n",
       "    </tr>\n",
       "    <tr>\n",
       "      <th>6</th>\n",
       "      <td>fd826e7cf63160e536e0908c76c3f441</td>\n",
       "      <td>addec96d2e059c80c30fe6871d30d177</td>\n",
       "      <td>4534</td>\n",
       "      <td>sao paulo</td>\n",
       "      <td>SP</td>\n",
       "      <td>36e694cf4cbc2a4803200c35e84abdc4</td>\n",
       "      <td>delivered</td>\n",
       "      <td>2018-02-19 14:38:35</td>\n",
       "      <td>2018-02-19 14:50:37</td>\n",
       "      <td>2018-02-20 00:03:39</td>\n",
       "      <td>2018-02-20 16:25:51</td>\n",
       "      <td>2018-03-05 00:00:00</td>\n",
       "    </tr>\n",
       "    <tr>\n",
       "      <th>7</th>\n",
       "      <td>5e274e7a0c3809e14aba7ad5aae0d407</td>\n",
       "      <td>57b2a98a409812fe9618067b6b8ebe4f</td>\n",
       "      <td>35182</td>\n",
       "      <td>timoteo</td>\n",
       "      <td>MG</td>\n",
       "      <td>1093c8304c7a003280dd34598194913d</td>\n",
       "      <td>delivered</td>\n",
       "      <td>2017-11-16 19:29:02</td>\n",
       "      <td>2017-11-16 19:55:41</td>\n",
       "      <td>2017-11-22 16:46:33</td>\n",
       "      <td>2017-11-27 12:44:36</td>\n",
       "      <td>2017-12-08 00:00:00</td>\n",
       "    </tr>\n",
       "    <tr>\n",
       "      <th>8</th>\n",
       "      <td>5adf08e34b2e993982a47070956c5c65</td>\n",
       "      <td>1175e95fb47ddff9de6b2b06188f7e0d</td>\n",
       "      <td>81560</td>\n",
       "      <td>curitiba</td>\n",
       "      <td>PR</td>\n",
       "      <td>1ebeea841c590e86a14a0d7a48e7d062</td>\n",
       "      <td>delivered</td>\n",
       "      <td>2018-01-18 12:35:44</td>\n",
       "      <td>2018-01-18 12:56:32</td>\n",
       "      <td>2018-01-18 23:25:35</td>\n",
       "      <td>2018-01-26 15:17:57</td>\n",
       "      <td>2018-02-20 00:00:00</td>\n",
       "    </tr>\n",
       "    <tr>\n",
       "      <th>9</th>\n",
       "      <td>4b7139f34592b3a31687243a302fa75b</td>\n",
       "      <td>9afe194fb833f79e300e37e580171f22</td>\n",
       "      <td>30575</td>\n",
       "      <td>belo horizonte</td>\n",
       "      <td>MG</td>\n",
       "      <td>7433cbcc783205509d66a5260da5b574</td>\n",
       "      <td>delivered</td>\n",
       "      <td>2018-01-08 11:22:34</td>\n",
       "      <td>2018-01-08 11:35:27</td>\n",
       "      <td>2018-01-11 01:00:40</td>\n",
       "      <td>2018-01-13 14:51:55</td>\n",
       "      <td>2018-02-05 00:00:00</td>\n",
       "    </tr>\n",
       "  </tbody>\n",
       "</table>\n",
       "</div>"
      ],
      "text/plain": [
       "                        customer_id                customer_unique_id  \\\n",
       "0  06b8999e2fba1a1fbc88172c00ba8bc7  861eff4711a542e4b93843c6dd7febb0   \n",
       "1  18955e83d337fd6b2def6b18a428ac77  290c77bc529b7ac935b93aa66c333dc3   \n",
       "2  4e7b3e00288586ebd08712fdd0374a03  060e732b5b29e8181a18229c7b0b2b5e   \n",
       "3  b2b6027bc5c5109e529d4dc6358b12c3  259dac757896d24d7702b9acbbff3f3c   \n",
       "4  4f2d8ab171c80ec8364f7c12e35b23ad  345ecd01c38d18a9036ed96c73b8d066   \n",
       "5  879864dab9bc3047522c92c82e1212b8  4c93744516667ad3b8f1fb645a3116a4   \n",
       "6  fd826e7cf63160e536e0908c76c3f441  addec96d2e059c80c30fe6871d30d177   \n",
       "7  5e274e7a0c3809e14aba7ad5aae0d407  57b2a98a409812fe9618067b6b8ebe4f   \n",
       "8  5adf08e34b2e993982a47070956c5c65  1175e95fb47ddff9de6b2b06188f7e0d   \n",
       "9  4b7139f34592b3a31687243a302fa75b  9afe194fb833f79e300e37e580171f22   \n",
       "\n",
       "   customer_zip_code_prefix          customer_city customer_state  \\\n",
       "0                     14409                 franca             SP   \n",
       "1                      9790  sao bernardo do campo             SP   \n",
       "2                      1151              sao paulo             SP   \n",
       "3                      8775        mogi das cruzes             SP   \n",
       "4                     13056               campinas             SP   \n",
       "5                     89254         jaragua do sul             SC   \n",
       "6                      4534              sao paulo             SP   \n",
       "7                     35182                timoteo             MG   \n",
       "8                     81560               curitiba             PR   \n",
       "9                     30575         belo horizonte             MG   \n",
       "\n",
       "                           order_id order_status order_purchase_timestamp  \\\n",
       "0  00e7ee1b050b8499577073aeb2a297a1    delivered      2017-05-16 15:05:35   \n",
       "1  29150127e6685892b6eab3eec79f59c7    delivered      2018-01-12 20:48:24   \n",
       "2  b2059ed67ce144a36e2aa97d2c9e9ad2    delivered      2018-05-19 16:07:45   \n",
       "3  951670f92359f4fe4a63112aa7306eba    delivered      2018-03-13 16:06:38   \n",
       "4  6b7d50bd145f6fc7f33cebabd7e49d0f    delivered      2018-07-29 09:51:30   \n",
       "5  5741ea1f91b5fbab2bd2dc653a5b5099    delivered      2017-09-14 18:14:31   \n",
       "6  36e694cf4cbc2a4803200c35e84abdc4    delivered      2018-02-19 14:38:35   \n",
       "7  1093c8304c7a003280dd34598194913d    delivered      2017-11-16 19:29:02   \n",
       "8  1ebeea841c590e86a14a0d7a48e7d062    delivered      2018-01-18 12:35:44   \n",
       "9  7433cbcc783205509d66a5260da5b574    delivered      2018-01-08 11:22:34   \n",
       "\n",
       "     order_approved_at order_delivered_carrier_date  \\\n",
       "0  2017-05-16 15:22:12          2017-05-23 10:47:57   \n",
       "1  2018-01-12 20:58:32          2018-01-15 17:14:59   \n",
       "2  2018-05-20 16:19:10          2018-06-11 14:31:00   \n",
       "3  2018-03-13 17:29:19          2018-03-27 23:22:42   \n",
       "4  2018-07-29 10:10:09          2018-07-30 15:16:00   \n",
       "5  2017-09-14 18:25:11          2017-09-18 21:27:40   \n",
       "6  2018-02-19 14:50:37          2018-02-20 00:03:39   \n",
       "7  2017-11-16 19:55:41          2017-11-22 16:46:33   \n",
       "8  2018-01-18 12:56:32          2018-01-18 23:25:35   \n",
       "9  2018-01-08 11:35:27          2018-01-11 01:00:40   \n",
       "\n",
       "  order_delivered_customer_date order_estimated_delivery_date  \n",
       "0           2017-05-25 10:35:35           2017-06-05 00:00:00  \n",
       "1           2018-01-29 12:41:19           2018-02-06 00:00:00  \n",
       "2           2018-06-14 17:58:51           2018-06-13 00:00:00  \n",
       "3           2018-03-28 16:04:25           2018-04-10 00:00:00  \n",
       "4           2018-08-09 20:55:48           2018-08-15 00:00:00  \n",
       "5           2017-09-28 17:32:43           2017-10-04 00:00:00  \n",
       "6           2018-02-20 16:25:51           2018-03-05 00:00:00  \n",
       "7           2017-11-27 12:44:36           2017-12-08 00:00:00  \n",
       "8           2018-01-26 15:17:57           2018-02-20 00:00:00  \n",
       "9           2018-01-13 14:51:55           2018-02-05 00:00:00  "
      ]
     },
     "execution_count": 53,
     "metadata": {},
     "output_type": "execute_result"
    }
   ],
   "source": [
    "m_df1.head(10)"
   ]
  },
  {
   "cell_type": "code",
   "execution_count": 54,
   "id": "dcc59b39",
   "metadata": {},
   "outputs": [
    {
     "data": {
      "text/plain": [
       "customer_id                         0\n",
       "customer_unique_id                  0\n",
       "customer_zip_code_prefix            0\n",
       "customer_city                       0\n",
       "customer_state                      0\n",
       "order_id                            0\n",
       "order_status                        0\n",
       "order_purchase_timestamp            0\n",
       "order_approved_at                 160\n",
       "order_delivered_carrier_date     1783\n",
       "order_delivered_customer_date    2965\n",
       "order_estimated_delivery_date       0\n",
       "dtype: int64"
      ]
     },
     "execution_count": 54,
     "metadata": {},
     "output_type": "execute_result"
    }
   ],
   "source": [
    "m_df1.isnull().sum()"
   ]
  },
  {
   "cell_type": "markdown",
   "id": "02405ec7",
   "metadata": {},
   "source": [
    "**ID dos 10 clientes que mais compraram na Plataforma**:"
   ]
  },
  {
   "cell_type": "code",
   "execution_count": 4,
   "id": "ffc99b90",
   "metadata": {},
   "outputs": [
    {
     "data": {
      "text/plain": [
       "customer_unique_id\n",
       "8d50f5eadf50201ccdcedfb9e2ac8455    17\n",
       "3e43e6105506432c953e165fb2acf44c     9\n",
       "6469f99c1f9dfae7733b25662e7f1782     7\n",
       "ca77025e7201e3b30c44b472ff346268     7\n",
       "1b6c7548a2a1f9037c1fd3ddfed95f33     7\n",
       "12f5d6e1cbf93dafd9dcc19095df0b3d     6\n",
       "de34b16117594161a6a89c50b289d35a     6\n",
       "63cfc61cee11cbe306bff5857d00bfe4     6\n",
       "f0e310a6839dce9de1638e0fe5ab282a     6\n",
       "47c1a3033b8b77b3ab6e109eb4d5fdf3     6\n",
       "Name: customer_id, dtype: int64"
      ]
     },
     "execution_count": 4,
     "metadata": {},
     "output_type": "execute_result"
    }
   ],
   "source": [
    "m_df1.groupby('customer_unique_id')['customer_id'].count().sort_values(ascending=False).head(10)"
   ]
  },
  {
   "cell_type": "markdown",
   "id": "3b1deed1",
   "metadata": {},
   "source": [
    "Dessa forma, nota-se que a cidade de **São Paulo** é o local onde tem maior número de compradores na plataforma, em seguida tem-se **Rio de Janeiro**, **Belo Horizonte**, e etc.<br>\n",
    "\n",
    "Observa-se também o quanto São Paulo e Rio estão à frente das demais cidades."
   ]
  },
  {
   "cell_type": "code",
   "execution_count": 5,
   "id": "602b8472",
   "metadata": {},
   "outputs": [
    {
     "data": {
      "text/plain": [
       "customer_city\n",
       "sao paulo                15540\n",
       "rio de janeiro            6882\n",
       "belo horizonte            2773\n",
       "brasilia                  2131\n",
       "curitiba                  1521\n",
       "campinas                  1444\n",
       "porto alegre              1379\n",
       "salvador                  1245\n",
       "guarulhos                 1189\n",
       "sao bernardo do campo      938\n",
       "Name: customer_unique_id, dtype: int64"
      ]
     },
     "execution_count": 5,
     "metadata": {},
     "output_type": "execute_result"
    }
   ],
   "source": [
    "m_df1.groupby('customer_city')['customer_unique_id'].count().sort_values(ascending=False).head(10)"
   ]
  },
  {
   "cell_type": "code",
   "execution_count": 6,
   "id": "a6cfb3a5",
   "metadata": {},
   "outputs": [
    {
     "data": {
      "text/plain": [
       "customer_state\n",
       "SP    41746\n",
       "RJ    12852\n",
       "MG    11635\n",
       "RS     5466\n",
       "PR     5045\n",
       "SC     3637\n",
       "BA     3380\n",
       "DF     2140\n",
       "ES     2033\n",
       "GO     2020\n",
       "Name: customer_unique_id, dtype: int64"
      ]
     },
     "execution_count": 6,
     "metadata": {},
     "output_type": "execute_result"
    }
   ],
   "source": [
    "m_df1.groupby('customer_state')['customer_unique_id'].count().sort_values(ascending=False).head(10)"
   ]
  },
  {
   "cell_type": "markdown",
   "id": "75c706b2",
   "metadata": {},
   "source": [
    "Já para os estados o padrão segue o mesmo da lista de cidades, tendo o estado de SP e RJ como os dois maiores na plataforma."
   ]
  },
  {
   "cell_type": "markdown",
   "id": "7b71d902",
   "metadata": {},
   "source": [
    "Essa próxima etapa da análise foi realizado um ``merge`` da base de dados de **itens pedidos** com a base de dados de **produtos vendidos**.<br>\n",
    "Assim, foi realizado a observação das categórias que mais vendem na Plataforma, e após foi realizado um ``groupby`` para a análise do preço médio de cada categoria.<br>\n",
    "\n",
    "**OBS: O ``merge`` foi realizado a partir de um ``inner`` da variável ``product_id`` de ambas as tabelas**."
   ]
  },
  {
   "cell_type": "code",
   "execution_count": 35,
   "id": "249c252c",
   "metadata": {},
   "outputs": [
    {
     "data": {
      "text/html": [
       "<div>\n",
       "<style scoped>\n",
       "    .dataframe tbody tr th:only-of-type {\n",
       "        vertical-align: middle;\n",
       "    }\n",
       "\n",
       "    .dataframe tbody tr th {\n",
       "        vertical-align: top;\n",
       "    }\n",
       "\n",
       "    .dataframe thead th {\n",
       "        text-align: right;\n",
       "    }\n",
       "</style>\n",
       "<table border=\"1\" class=\"dataframe\">\n",
       "  <thead>\n",
       "    <tr style=\"text-align: right;\">\n",
       "      <th></th>\n",
       "      <th>order_id</th>\n",
       "      <th>order_item_id</th>\n",
       "      <th>product_id</th>\n",
       "      <th>seller_id</th>\n",
       "      <th>shipping_limit_date</th>\n",
       "      <th>price</th>\n",
       "      <th>freight_value</th>\n",
       "      <th>product_category_name</th>\n",
       "      <th>product_name_lenght</th>\n",
       "      <th>product_description_lenght</th>\n",
       "      <th>product_photos_qty</th>\n",
       "      <th>product_weight_g</th>\n",
       "      <th>product_length_cm</th>\n",
       "      <th>product_height_cm</th>\n",
       "      <th>product_width_cm</th>\n",
       "    </tr>\n",
       "  </thead>\n",
       "  <tbody>\n",
       "    <tr>\n",
       "      <th>0</th>\n",
       "      <td>00010242fe8c5a6d1ba2dd792cb16214</td>\n",
       "      <td>1</td>\n",
       "      <td>4244733e06e7ecb4970a6e2683c13e61</td>\n",
       "      <td>48436dade18ac8b2bce089ec2a041202</td>\n",
       "      <td>2017-09-19 09:45:35</td>\n",
       "      <td>58.9</td>\n",
       "      <td>13.29</td>\n",
       "      <td>cool_stuff</td>\n",
       "      <td>58.0</td>\n",
       "      <td>598.0</td>\n",
       "      <td>4.0</td>\n",
       "      <td>650.0</td>\n",
       "      <td>28.0</td>\n",
       "      <td>9.0</td>\n",
       "      <td>14.0</td>\n",
       "    </tr>\n",
       "    <tr>\n",
       "      <th>1</th>\n",
       "      <td>130898c0987d1801452a8ed92a670612</td>\n",
       "      <td>1</td>\n",
       "      <td>4244733e06e7ecb4970a6e2683c13e61</td>\n",
       "      <td>48436dade18ac8b2bce089ec2a041202</td>\n",
       "      <td>2017-07-05 02:44:11</td>\n",
       "      <td>55.9</td>\n",
       "      <td>17.96</td>\n",
       "      <td>cool_stuff</td>\n",
       "      <td>58.0</td>\n",
       "      <td>598.0</td>\n",
       "      <td>4.0</td>\n",
       "      <td>650.0</td>\n",
       "      <td>28.0</td>\n",
       "      <td>9.0</td>\n",
       "      <td>14.0</td>\n",
       "    </tr>\n",
       "    <tr>\n",
       "      <th>2</th>\n",
       "      <td>532ed5e14e24ae1f0d735b91524b98b9</td>\n",
       "      <td>1</td>\n",
       "      <td>4244733e06e7ecb4970a6e2683c13e61</td>\n",
       "      <td>48436dade18ac8b2bce089ec2a041202</td>\n",
       "      <td>2018-05-23 10:56:25</td>\n",
       "      <td>64.9</td>\n",
       "      <td>18.33</td>\n",
       "      <td>cool_stuff</td>\n",
       "      <td>58.0</td>\n",
       "      <td>598.0</td>\n",
       "      <td>4.0</td>\n",
       "      <td>650.0</td>\n",
       "      <td>28.0</td>\n",
       "      <td>9.0</td>\n",
       "      <td>14.0</td>\n",
       "    </tr>\n",
       "    <tr>\n",
       "      <th>3</th>\n",
       "      <td>6f8c31653edb8c83e1a739408b5ff750</td>\n",
       "      <td>1</td>\n",
       "      <td>4244733e06e7ecb4970a6e2683c13e61</td>\n",
       "      <td>48436dade18ac8b2bce089ec2a041202</td>\n",
       "      <td>2017-08-07 18:55:08</td>\n",
       "      <td>58.9</td>\n",
       "      <td>16.17</td>\n",
       "      <td>cool_stuff</td>\n",
       "      <td>58.0</td>\n",
       "      <td>598.0</td>\n",
       "      <td>4.0</td>\n",
       "      <td>650.0</td>\n",
       "      <td>28.0</td>\n",
       "      <td>9.0</td>\n",
       "      <td>14.0</td>\n",
       "    </tr>\n",
       "    <tr>\n",
       "      <th>4</th>\n",
       "      <td>7d19f4ef4d04461989632411b7e588b9</td>\n",
       "      <td>1</td>\n",
       "      <td>4244733e06e7ecb4970a6e2683c13e61</td>\n",
       "      <td>48436dade18ac8b2bce089ec2a041202</td>\n",
       "      <td>2017-08-16 22:05:11</td>\n",
       "      <td>58.9</td>\n",
       "      <td>13.29</td>\n",
       "      <td>cool_stuff</td>\n",
       "      <td>58.0</td>\n",
       "      <td>598.0</td>\n",
       "      <td>4.0</td>\n",
       "      <td>650.0</td>\n",
       "      <td>28.0</td>\n",
       "      <td>9.0</td>\n",
       "      <td>14.0</td>\n",
       "    </tr>\n",
       "    <tr>\n",
       "      <th>5</th>\n",
       "      <td>a0f9acf0b6294ed8561e32cde1a966bc</td>\n",
       "      <td>1</td>\n",
       "      <td>4244733e06e7ecb4970a6e2683c13e61</td>\n",
       "      <td>48436dade18ac8b2bce089ec2a041202</td>\n",
       "      <td>2017-08-03 15:23:46</td>\n",
       "      <td>55.9</td>\n",
       "      <td>26.93</td>\n",
       "      <td>cool_stuff</td>\n",
       "      <td>58.0</td>\n",
       "      <td>598.0</td>\n",
       "      <td>4.0</td>\n",
       "      <td>650.0</td>\n",
       "      <td>28.0</td>\n",
       "      <td>9.0</td>\n",
       "      <td>14.0</td>\n",
       "    </tr>\n",
       "    <tr>\n",
       "      <th>6</th>\n",
       "      <td>bbf796534aaf9c59f8da8c7982db56e0</td>\n",
       "      <td>1</td>\n",
       "      <td>4244733e06e7ecb4970a6e2683c13e61</td>\n",
       "      <td>48436dade18ac8b2bce089ec2a041202</td>\n",
       "      <td>2018-03-26 03:28:44</td>\n",
       "      <td>64.9</td>\n",
       "      <td>38.50</td>\n",
       "      <td>cool_stuff</td>\n",
       "      <td>58.0</td>\n",
       "      <td>598.0</td>\n",
       "      <td>4.0</td>\n",
       "      <td>650.0</td>\n",
       "      <td>28.0</td>\n",
       "      <td>9.0</td>\n",
       "      <td>14.0</td>\n",
       "    </tr>\n",
       "    <tr>\n",
       "      <th>7</th>\n",
       "      <td>c9ef97d2854afe64a3b4488bc2836af6</td>\n",
       "      <td>2</td>\n",
       "      <td>4244733e06e7ecb4970a6e2683c13e61</td>\n",
       "      <td>48436dade18ac8b2bce089ec2a041202</td>\n",
       "      <td>2017-08-14 04:25:34</td>\n",
       "      <td>58.9</td>\n",
       "      <td>18.12</td>\n",
       "      <td>cool_stuff</td>\n",
       "      <td>58.0</td>\n",
       "      <td>598.0</td>\n",
       "      <td>4.0</td>\n",
       "      <td>650.0</td>\n",
       "      <td>28.0</td>\n",
       "      <td>9.0</td>\n",
       "      <td>14.0</td>\n",
       "    </tr>\n",
       "    <tr>\n",
       "      <th>8</th>\n",
       "      <td>df2d910b8b5e5f461f67043489f9569d</td>\n",
       "      <td>1</td>\n",
       "      <td>4244733e06e7ecb4970a6e2683c13e61</td>\n",
       "      <td>48436dade18ac8b2bce089ec2a041202</td>\n",
       "      <td>2017-06-09 14:31:21</td>\n",
       "      <td>55.9</td>\n",
       "      <td>35.71</td>\n",
       "      <td>cool_stuff</td>\n",
       "      <td>58.0</td>\n",
       "      <td>598.0</td>\n",
       "      <td>4.0</td>\n",
       "      <td>650.0</td>\n",
       "      <td>28.0</td>\n",
       "      <td>9.0</td>\n",
       "      <td>14.0</td>\n",
       "    </tr>\n",
       "    <tr>\n",
       "      <th>9</th>\n",
       "      <td>00018f77f2f0320c557190d7a144bdd3</td>\n",
       "      <td>1</td>\n",
       "      <td>e5f2d52b802189ee658865ca93d83a8f</td>\n",
       "      <td>dd7ddc04e1b6c2c614352b383efe2d36</td>\n",
       "      <td>2017-05-03 11:05:13</td>\n",
       "      <td>239.9</td>\n",
       "      <td>19.93</td>\n",
       "      <td>pet_shop</td>\n",
       "      <td>56.0</td>\n",
       "      <td>239.0</td>\n",
       "      <td>2.0</td>\n",
       "      <td>30000.0</td>\n",
       "      <td>50.0</td>\n",
       "      <td>30.0</td>\n",
       "      <td>40.0</td>\n",
       "    </tr>\n",
       "  </tbody>\n",
       "</table>\n",
       "</div>"
      ],
      "text/plain": [
       "                           order_id  order_item_id  \\\n",
       "0  00010242fe8c5a6d1ba2dd792cb16214              1   \n",
       "1  130898c0987d1801452a8ed92a670612              1   \n",
       "2  532ed5e14e24ae1f0d735b91524b98b9              1   \n",
       "3  6f8c31653edb8c83e1a739408b5ff750              1   \n",
       "4  7d19f4ef4d04461989632411b7e588b9              1   \n",
       "5  a0f9acf0b6294ed8561e32cde1a966bc              1   \n",
       "6  bbf796534aaf9c59f8da8c7982db56e0              1   \n",
       "7  c9ef97d2854afe64a3b4488bc2836af6              2   \n",
       "8  df2d910b8b5e5f461f67043489f9569d              1   \n",
       "9  00018f77f2f0320c557190d7a144bdd3              1   \n",
       "\n",
       "                         product_id                         seller_id  \\\n",
       "0  4244733e06e7ecb4970a6e2683c13e61  48436dade18ac8b2bce089ec2a041202   \n",
       "1  4244733e06e7ecb4970a6e2683c13e61  48436dade18ac8b2bce089ec2a041202   \n",
       "2  4244733e06e7ecb4970a6e2683c13e61  48436dade18ac8b2bce089ec2a041202   \n",
       "3  4244733e06e7ecb4970a6e2683c13e61  48436dade18ac8b2bce089ec2a041202   \n",
       "4  4244733e06e7ecb4970a6e2683c13e61  48436dade18ac8b2bce089ec2a041202   \n",
       "5  4244733e06e7ecb4970a6e2683c13e61  48436dade18ac8b2bce089ec2a041202   \n",
       "6  4244733e06e7ecb4970a6e2683c13e61  48436dade18ac8b2bce089ec2a041202   \n",
       "7  4244733e06e7ecb4970a6e2683c13e61  48436dade18ac8b2bce089ec2a041202   \n",
       "8  4244733e06e7ecb4970a6e2683c13e61  48436dade18ac8b2bce089ec2a041202   \n",
       "9  e5f2d52b802189ee658865ca93d83a8f  dd7ddc04e1b6c2c614352b383efe2d36   \n",
       "\n",
       "   shipping_limit_date  price  freight_value product_category_name  \\\n",
       "0  2017-09-19 09:45:35   58.9          13.29            cool_stuff   \n",
       "1  2017-07-05 02:44:11   55.9          17.96            cool_stuff   \n",
       "2  2018-05-23 10:56:25   64.9          18.33            cool_stuff   \n",
       "3  2017-08-07 18:55:08   58.9          16.17            cool_stuff   \n",
       "4  2017-08-16 22:05:11   58.9          13.29            cool_stuff   \n",
       "5  2017-08-03 15:23:46   55.9          26.93            cool_stuff   \n",
       "6  2018-03-26 03:28:44   64.9          38.50            cool_stuff   \n",
       "7  2017-08-14 04:25:34   58.9          18.12            cool_stuff   \n",
       "8  2017-06-09 14:31:21   55.9          35.71            cool_stuff   \n",
       "9  2017-05-03 11:05:13  239.9          19.93              pet_shop   \n",
       "\n",
       "   product_name_lenght  product_description_lenght  product_photos_qty  \\\n",
       "0                 58.0                       598.0                 4.0   \n",
       "1                 58.0                       598.0                 4.0   \n",
       "2                 58.0                       598.0                 4.0   \n",
       "3                 58.0                       598.0                 4.0   \n",
       "4                 58.0                       598.0                 4.0   \n",
       "5                 58.0                       598.0                 4.0   \n",
       "6                 58.0                       598.0                 4.0   \n",
       "7                 58.0                       598.0                 4.0   \n",
       "8                 58.0                       598.0                 4.0   \n",
       "9                 56.0                       239.0                 2.0   \n",
       "\n",
       "   product_weight_g  product_length_cm  product_height_cm  product_width_cm  \n",
       "0             650.0               28.0                9.0              14.0  \n",
       "1             650.0               28.0                9.0              14.0  \n",
       "2             650.0               28.0                9.0              14.0  \n",
       "3             650.0               28.0                9.0              14.0  \n",
       "4             650.0               28.0                9.0              14.0  \n",
       "5             650.0               28.0                9.0              14.0  \n",
       "6             650.0               28.0                9.0              14.0  \n",
       "7             650.0               28.0                9.0              14.0  \n",
       "8             650.0               28.0                9.0              14.0  \n",
       "9           30000.0               50.0               30.0              40.0  "
      ]
     },
     "execution_count": 35,
     "metadata": {},
     "output_type": "execute_result"
    }
   ],
   "source": [
    "m_df2 = pd.merge(df_iten_pedidos, df_prod, how='inner', on='product_id')\n",
    "m_df2.head(10)"
   ]
  },
  {
   "cell_type": "code",
   "execution_count": 67,
   "id": "1e8a83ac",
   "metadata": {},
   "outputs": [
    {
     "name": "stdout",
     "output_type": "stream",
     "text": [
      "<class 'pandas.core.frame.DataFrame'>\n",
      "Int64Index: 112650 entries, 0 to 112649\n",
      "Data columns (total 15 columns):\n",
      " #   Column                      Non-Null Count   Dtype  \n",
      "---  ------                      --------------   -----  \n",
      " 0   order_id                    112650 non-null  object \n",
      " 1   order_item_id               112650 non-null  int64  \n",
      " 2   product_id                  112650 non-null  object \n",
      " 3   seller_id                   112650 non-null  object \n",
      " 4   shipping_limit_date         112650 non-null  object \n",
      " 5   price                       112650 non-null  float64\n",
      " 6   freight_value               112650 non-null  float64\n",
      " 7   product_category_name       111047 non-null  object \n",
      " 8   product_name_lenght         111047 non-null  float64\n",
      " 9   product_description_lenght  111047 non-null  float64\n",
      " 10  product_photos_qty          111047 non-null  float64\n",
      " 11  product_weight_g            112632 non-null  float64\n",
      " 12  product_length_cm           112632 non-null  float64\n",
      " 13  product_height_cm           112632 non-null  float64\n",
      " 14  product_width_cm            112632 non-null  float64\n",
      "dtypes: float64(9), int64(1), object(5)\n",
      "memory usage: 13.8+ MB\n"
     ]
    }
   ],
   "source": [
    "m_df2.info()"
   ]
  },
  {
   "cell_type": "code",
   "execution_count": 66,
   "id": "6a9e9a3b",
   "metadata": {},
   "outputs": [
    {
     "data": {
      "text/plain": [
       "order_id                         0\n",
       "order_item_id                    0\n",
       "product_id                       0\n",
       "seller_id                        0\n",
       "shipping_limit_date              0\n",
       "price                            0\n",
       "freight_value                    0\n",
       "product_category_name         1603\n",
       "product_name_lenght           1603\n",
       "product_description_lenght    1603\n",
       "product_photos_qty            1603\n",
       "product_weight_g                18\n",
       "product_length_cm               18\n",
       "product_height_cm               18\n",
       "product_width_cm                18\n",
       "dtype: int64"
      ]
     },
     "execution_count": 66,
     "metadata": {},
     "output_type": "execute_result"
    }
   ],
   "source": [
    "m_df2.isnull().sum()"
   ]
  },
  {
   "cell_type": "markdown",
   "id": "aa67a06f",
   "metadata": {},
   "source": [
    "**Nota-se as 20 categorias que mais vendem na Olist**."
   ]
  },
  {
   "cell_type": "code",
   "execution_count": 13,
   "id": "3d599166",
   "metadata": {},
   "outputs": [
    {
     "data": {
      "text/plain": [
       "cama_mesa_banho                11115\n",
       "beleza_saude                    9670\n",
       "esporte_lazer                   8641\n",
       "moveis_decoracao                8334\n",
       "informatica_acessorios          7827\n",
       "utilidades_domesticas           6964\n",
       "relogios_presentes              5991\n",
       "telefonia                       4545\n",
       "ferramentas_jardim              4347\n",
       "automotivo                      4235\n",
       "brinquedos                      4117\n",
       "cool_stuff                      3796\n",
       "perfumaria                      3419\n",
       "bebes                           3065\n",
       "eletronicos                     2767\n",
       "papelaria                       2517\n",
       "fashion_bolsas_e_acessorios     2031\n",
       "pet_shop                        1947\n",
       "moveis_escritorio               1691\n",
       "consoles_games                  1137\n",
       "Name: product_category_name, dtype: int64"
      ]
     },
     "execution_count": 13,
     "metadata": {},
     "output_type": "execute_result"
    }
   ],
   "source": [
    "m_df2['product_category_name'].value_counts().sort_values(ascending=False).head(20)"
   ]
  },
  {
   "cell_type": "markdown",
   "id": "8b8726a9",
   "metadata": {},
   "source": [
    "Em relação ao preço médio pode-se observar as categorias com os preços médio mais elevados, como pcs (eletronicos), produtos para casa portateis, eletrodomesticos, e etc.<br>\n",
    "\n",
    "Dentre as categorias com maior valor médio; ``relógio_presentes``, ``cool_stuff``, ``moveis_escritorio`` estão presentes também dentro das 20 categorias que mais vendem."
   ]
  },
  {
   "cell_type": "code",
   "execution_count": 12,
   "id": "6e6fbb6f",
   "metadata": {},
   "outputs": [
    {
     "data": {
      "text/plain": [
       "product_category_name\n",
       "pcs                                               1098.340542\n",
       "portateis_casa_forno_e_cafe                        624.285658\n",
       "eletrodomesticos_2                                 476.124958\n",
       "agro_industria_e_comercio                          342.124858\n",
       "instrumentos_musicais                              281.616000\n",
       "eletroportateis                                    280.778468\n",
       "portateis_cozinha_e_preparadores_de_alimentos      264.568667\n",
       "telefonia_fixa                                     225.693182\n",
       "construcao_ferramentas_seguranca                   208.992371\n",
       "relogios_presentes                                 201.135984\n",
       "climatizacao                                       185.269226\n",
       "moveis_quarto                                      183.750275\n",
       "pc_gamer                                           171.772222\n",
       "cool_stuff                                         167.357969\n",
       "moveis_cozinha_area_de_servico_jantar_e_jardim     164.869644\n",
       "moveis_escritorio                                  162.011059\n",
       "musica                                             158.798684\n",
       "construcao_ferramentas_construcao                  155.734758\n",
       "construcao_ferramentas_ferramentas                 154.407282\n",
       "industria_comercio_e_negocios                      148.020933\n",
       "Name: price, dtype: float64"
      ]
     },
     "execution_count": 12,
     "metadata": {},
     "output_type": "execute_result"
    }
   ],
   "source": [
    "m_df2.groupby('product_category_name')['price'].mean().sort_values(ascending=False).head(20)"
   ]
  },
  {
   "cell_type": "markdown",
   "id": "c10548a0",
   "metadata": {},
   "source": [
    "Nota-se as categorias com maiores valores médio de frete."
   ]
  },
  {
   "cell_type": "code",
   "execution_count": 36,
   "id": "a4607031",
   "metadata": {},
   "outputs": [
    {
     "data": {
      "text/plain": [
       "product_category_name\n",
       "pcs                                               48.454680\n",
       "eletrodomesticos_2                                44.538571\n",
       "moveis_colchao_e_estofado                         42.906842\n",
       "moveis_cozinha_area_de_servico_jantar_e_jardim    42.702598\n",
       "moveis_quarto                                     42.497523\n",
       "moveis_escritorio                                 40.551124\n",
       "portateis_casa_forno_e_cafe                       36.156053\n",
       "moveis_sala                                       35.722008\n",
       "sinalizacao_e_seguranca                           32.702613\n",
       "industria_comercio_e_negocios                     29.420448\n",
       "malas_acessorios                                  27.880247\n",
       "agro_industria_e_comercio                         27.564151\n",
       "instrumentos_musicais                             27.409544\n",
       "construcao_ferramentas_iluminacao                 24.946711\n",
       "la_cuisine                                        23.825000\n",
       "eletroportateis                                   23.593888\n",
       "casa_construcao                                   22.901060\n",
       "ferramentas_jardim                                22.765758\n",
       "climatizacao                                      22.724680\n",
       "construcao_ferramentas_jardim                     22.316807\n",
       "Name: freight_value, dtype: float64"
      ]
     },
     "execution_count": 36,
     "metadata": {},
     "output_type": "execute_result"
    }
   ],
   "source": [
    "m_df2.groupby('product_category_name')['freight_value'].mean().sort_values(ascending=False).head(20)"
   ]
  },
  {
   "cell_type": "markdown",
   "id": "b3a39de1",
   "metadata": {},
   "source": [
    "## Conclusão:"
   ]
  },
  {
   "cell_type": "markdown",
   "id": "fc0e430d",
   "metadata": {},
   "source": [
    "O presente estudo procurou demonstrar soluções para um problema de unir tabelas com muitos dados a partir de funções da biblioteca ``pandas``.<br>\n",
    "\n",
    "E para além apenas de mostrar as funcionalidades dessas funções, o estudo também tentou trazer alguns ensights da base de dados demonstrada.<br>\n",
    "\n",
    "Logo, nota-se a importância da região sudeste para a Plataforma Olist, devido ao seu poder de compra em relação as demais regiões do país.<br>\n",
    "Observa-se também a importância da categoria de informatica (pcs) para a Plataforma, em questão de valor agregado sobre as suas vendas.<br>"
   ]
  }
 ],
 "metadata": {
  "kernelspec": {
   "display_name": "Python 3 (ipykernel)",
   "language": "python",
   "name": "python3"
  },
  "language_info": {
   "codemirror_mode": {
    "name": "ipython",
    "version": 3
   },
   "file_extension": ".py",
   "mimetype": "text/x-python",
   "name": "python",
   "nbconvert_exporter": "python",
   "pygments_lexer": "ipython3",
   "version": "3.9.12"
  }
 },
 "nbformat": 4,
 "nbformat_minor": 5
}
